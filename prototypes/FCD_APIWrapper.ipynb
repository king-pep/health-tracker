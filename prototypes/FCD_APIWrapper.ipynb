{
 "cells": [
  {
   "cell_type": "markdown",
   "metadata": {},
   "source": [
    "# API Wrapper for USDA Food Consumption Databases"
   ]
  },
  {
   "cell_type": "code",
   "execution_count": 168,
   "metadata": {
    "collapsed": true
   },
   "outputs": [],
   "source": [
    "import requests"
   ]
  },
  {
   "cell_type": "code",
   "execution_count": 169,
   "metadata": {
    "collapsed": false
   },
   "outputs": [],
   "source": [
    "class FCD(object):\n",
    "    FORMAT = \"json\"\n",
    "    API_KEY = \"ENTER YOUR API KEY HERE!!!\"\n",
    "    API_URL = \"http://api.nal.usda.gov/ndb/{}/?format={}&api_key={}\"\n",
    "    def __init__(self):\n",
    "        super(FCD, self).__init__()\n",
    "\n",
    "    @staticmethod\n",
    "    def get_url(command):\n",
    "        return FCD.API_URL.format(command, FCD.FORMAT, FCD.API_KEY)\n",
    "        \n",
    "    @staticmethod\n",
    "    def find(name):\n",
    "        \"\"\"\n",
    "        searchs for the given food\n",
    "        \n",
    "        :return: returns a list of matching food objects \n",
    "        \"\"\"\n",
    "        base_url = FCD.get_url(\"search\")\n",
    "        url = base_url + \"&q={}\".format(name)\n",
    "        json_response = requests.get(url).json()[\"list\"][\"item\"]\n",
    "        return json_response\n",
    "    \n",
    "    @staticmethod\n",
    "    def get_report(ndbno):\n",
    "        base_url = FCD.get_url(\"reports\")\n",
    "        url = base_url + \"&type=f&ndbno={}\".format(ndbno)\n",
    "        json_response = requests.get(url).json()[\"report\"]\n",
    "        return json_response\n",
    "\n",
    "    @staticmethod\n",
    "    def get_nutrients(ndbno):\n",
    "        report = FCD.get_report(ndbno)\n",
    "        return report[\"food\"][\"nutrients\"]\n",
    "    \n",
    "    @staticmethod\n",
    "    def get_measures(ndbno):\n",
    "        nutrients = FCD.get_nutrients(ndbno)\n",
    "        return set(m[\"label\"] for n in nutrients for m in n[\"measures\"])"
   ]
  },
  {
   "cell_type": "markdown",
   "metadata": {},
   "source": [
    "## Searching food by keywords"
   ]
  },
  {
   "cell_type": "code",
   "execution_count": 150,
   "metadata": {
    "collapsed": false
   },
   "outputs": [
    {
     "name": "stdout",
     "output_type": "stream",
     "text": [
      "- 45037461 -MICHIGAN APPLES, APPLE SLICES WITH CARAMEL, UPC: 071228174323\n",
      "- 45037466 -MICHIGAN APPLES, APPLE SLICES WITH GRAPES, UPC: 071228174316\n",
      "- 45114816 -GRANDMA HOERNER'S, BIG SLICE, KETTLE COOKED APPLES SLICES, CHUNKS & SAUCE, CHERRY VANILLA, UPC: 018522884145\n",
      "- 45114792 -GRANDMA HOERNER'S, BIG SLICE, KETTLE COOKED APPLES; SLICES, CHUNKS, & SAUCE, CINNAMON FRENCH TOAST, UPC: 018522884176\n",
      "- 45114818 -GRANDMA HOERNER'S, BIG SLICE, KETTLE COOKED APPLES; SLICES, CHUNKS & SAUCE, ORANGE GINGER, UPC: 018522884152\n",
      "- 45105319 -CINNAMON APPLE SLICES DRIED FRUIT, UPC: 085239071366\n",
      "- 45106128 -CINNAMON APPLE SLICES FREEZE DRIED FRUIT, UPC: 085239802045\n",
      "- 45050451 -APPLE SLICES FREEZE DRIED FRUIT, UPC: 085239174180\n",
      "- 45105695 -APPLE SLICES FREEZE DRIED FRUIT, UPC: 085239801741\n",
      "- 45028519 -GREEN ACRES, FUJI APPLE SLICES IN LIGHT SYRUP, UPC: 076963519835\n",
      "- 45010410 -CRUNCH PAK, APPLE SLICES, UPC: 732313142206\n",
      "- 45064671 -CRUNCH PAK, ORGANIC SWEET APPLE SLICES, UPC: 732313142435\n",
      "- 45064682 -CRUNCH PAK, SWEET APPLE SLICES, UPC: 732313122031\n",
      "- 45094318 -O ORGANICS, ORGANIC SWEET APPLE SLICES, UPC: 079893402048\n",
      "- 45094270 -BELLA VIVA ORCHARDS, PURE & NATURAL APPLE SLICES, UPC: 701024111054\n",
      "- 09007 -Apples, canned, sweetened, sliced, drained, unheated\n",
      "- 09008 -Apples, canned, sweetened, sliced, drained, heated\n",
      "- 45048208 -DIPPIN' STIX, SLICED APPLES & CARAMEL WITH PEANUTS, UPC: 649632000813\n",
      "- 45091286 -DIPPIN' STIX, SLICED APPLES, PEANUT BUTTER & CHOCOLATE, UPC: 649632001230\n",
      "- 45091341 -REICHEL, DIPPIN' STICKS, SLICED APPLES & CARAMEL, UPC: 649632000806\n",
      "- 45098025 -SISTERS FRUIT COMPANY, RED DELICIOUS SLICED APPLE CHIPS, LIGHT & CRISPY, UPC: 857670004063\n",
      "- 45104853 -PRO2SNAX, SLICED APPLES WITH MILD CHEDDAR CHEESE, UPC: 649632001414\n",
      "- 45036949 -MEIJER, SLICED FUJI APPLES JUICE, UPC: 713733845731\n",
      "- 45098184 -BIG SLICE, KETTLE COOKED APPLES, BANANA, MANGO, HEMP SEED, UPC: 018522031563\n",
      "- 45114778 -GRANDMA HOERNER'S, BIG SLICE, KETTLE COOKED APPLES, BLUEBERRY, POMEGRANATE, UPC: 018522884121\n",
      "- 45114779 -GRANDMA HOERNER'S, BIG SLICE, KETTLE COOKED APPLES, APRICOT, UPC: 018522884114\n",
      "- 45021259 -PATRICK CUDAHY, THICK SLICED BACON WITH SWEET APPLE-WOOD, UPC: 043200614028\n",
      "- 45012707 -PATRICK CUDAHY, BACON, ORIGINAL, REGULAR SLICED, NATURALLY SMOKED WITH SWEET APPLE-WOOD,, UPC: 043200614073\n"
     ]
    }
   ],
   "source": [
    "for food in FCD.find(\"apple slice\"):\n",
    "    print(\"- {} -{}\".format(food[\"ndbno\"], food[\"name\"]))"
   ]
  },
  {
   "cell_type": "markdown",
   "metadata": {},
   "source": [
    "## Fetching measures for a particular food"
   ]
  },
  {
   "cell_type": "code",
   "execution_count": 152,
   "metadata": {
    "collapsed": false
   },
   "outputs": [
    {
     "data": {
      "text/plain": [
       "{'cubic inch',\n",
       " 'cup, diced',\n",
       " 'cup, melted',\n",
       " 'cup, shredded',\n",
       " 'oz',\n",
       " 'slice (1 oz)'}"
      ]
     },
     "execution_count": 152,
     "metadata": {},
     "output_type": "execute_result"
    }
   ],
   "source": [
    "selected_ndbno = \"01009\"\n",
    "FCD.get_measures(selected_ndbno)"
   ]
  },
  {
   "cell_type": "code",
   "execution_count": 157,
   "metadata": {
    "collapsed": true
   },
   "outputs": [],
   "source": [
    "selected_measure = \"cup, diced\"\n",
    "quantity = 2"
   ]
  },
  {
   "cell_type": "markdown",
   "metadata": {},
   "source": [
    "## Fetching nutrients and calculating intake"
   ]
  },
  {
   "cell_type": "code",
   "execution_count": 131,
   "metadata": {
    "collapsed": false
   },
   "outputs": [],
   "source": [
    "def calculate_consumption(ndbno, measure, quantity):\n",
    "    nutrients = APIWrapper.get_nutrients(ndbno)\n",
    "    intake = []\n",
    "    for nutrient in nutrients:\n",
    "        for i_measure in nutrient[\"measures\"] :\n",
    "            if i_measure[\"label\"] == measure and i_measure[\"value\"] != 0 :\n",
    "                intake.append({\n",
    "                        \"label\": nutrient[\"name\"], \n",
    "                        \"unit\": nutrient[\"unit\"], \n",
    "                        \"intake\": i_measure[\"value\"] * quantity\n",
    "                    })\n",
    "    return intake\n",
    "\n"
   ]
  },
  {
   "cell_type": "code",
   "execution_count": 158,
   "metadata": {
    "collapsed": false
   },
   "outputs": [
    {
     "data": {
      "text/plain": [
       "[{'intake': 97.74, 'label': 'Water', 'unit': 'g'},\n",
       " {'intake': 1066.0, 'label': 'Energy', 'unit': 'kcal'},\n",
       " {'intake': 4458.0, 'label': 'Energy', 'unit': 'kJ'},\n",
       " {'intake': 60.38, 'label': 'Protein', 'unit': 'g'},\n",
       " {'intake': 87.94, 'label': 'Total lipid (fat)', 'unit': 'g'},\n",
       " {'intake': 9.8, 'label': 'Ash', 'unit': 'g'},\n",
       " {'intake': 8.16, 'label': 'Carbohydrate, by difference', 'unit': 'g'},\n",
       " {'intake': 1.26, 'label': 'Sugars, total', 'unit': 'g'},\n",
       " {'intake': 0.68, 'label': 'Glucose (dextrose)', 'unit': 'g'},\n",
       " {'intake': 0.32, 'label': 'Lactose', 'unit': 'g'},\n",
       " {'intake': 0.26, 'label': 'Galactose', 'unit': 'g'},\n",
       " {'intake': 1874.0, 'label': 'Calcium, Ca', 'unit': 'mg'},\n",
       " {'intake': 0.36, 'label': 'Iron, Fe', 'unit': 'mg'},\n",
       " {'intake': 72.0, 'label': 'Magnesium, Mg', 'unit': 'mg'},\n",
       " {'intake': 1202.0, 'label': 'Phosphorus, P', 'unit': 'mg'},\n",
       " {'intake': 200.0, 'label': 'Potassium, K', 'unit': 'mg'},\n",
       " {'intake': 1724.0, 'label': 'Sodium, Na', 'unit': 'mg'},\n",
       " {'intake': 9.6, 'label': 'Zinc, Zn', 'unit': 'mg'},\n",
       " {'intake': 0.08, 'label': 'Copper, Cu', 'unit': 'mg'},\n",
       " {'intake': 0.072, 'label': 'Manganese, Mn', 'unit': 'mg'},\n",
       " {'intake': 75.2, 'label': 'Selenium, Se', 'unit': 'µg'},\n",
       " {'intake': 92.2, 'label': 'Fluoride, F', 'unit': 'µg'},\n",
       " {'intake': 0.076, 'label': 'Thiamin', 'unit': 'mg'},\n",
       " {'intake': 1.13, 'label': 'Riboflavin', 'unit': 'mg'},\n",
       " {'intake': 0.156, 'label': 'Niacin', 'unit': 'mg'},\n",
       " {'intake': 1.082, 'label': 'Pantothenic acid', 'unit': 'mg'},\n",
       " {'intake': 0.174, 'label': 'Vitamin B-6', 'unit': 'mg'},\n",
       " {'intake': 72.0, 'label': 'Folate, total', 'unit': 'µg'},\n",
       " {'intake': 72.0, 'label': 'Folate, food', 'unit': 'µg'},\n",
       " {'intake': 72.0, 'label': 'Folate, DFE', 'unit': 'µg'},\n",
       " {'intake': 43.6, 'label': 'Choline, total', 'unit': 'mg'},\n",
       " {'intake': 1.8, 'label': 'Betaine', 'unit': 'mg'},\n",
       " {'intake': 2.9, 'label': 'Vitamin B-12', 'unit': 'µg'},\n",
       " {'intake': 872.0, 'label': 'Vitamin A, RAE', 'unit': 'µg'},\n",
       " {'intake': 872.0, 'label': 'Retinol', 'unit': 'µg'},\n",
       " {'intake': 224.0, 'label': 'Carotene, beta', 'unit': 'µg'},\n",
       " {'intake': 3278.0, 'label': 'Vitamin A, IU', 'unit': 'IU'},\n",
       " {'intake': 1.88, 'label': 'Vitamin E (alpha-tocopherol)', 'unit': 'mg'},\n",
       " {'intake': 1.6, 'label': 'Vitamin D (D2 + D3)', 'unit': 'µg'},\n",
       " {'intake': 1.6, 'label': 'Vitamin D3 (cholecalciferol)', 'unit': 'µg'},\n",
       " {'intake': 64.0, 'label': 'Vitamin D', 'unit': 'IU'},\n",
       " {'intake': 6.4, 'label': 'Vitamin K (phylloquinone)', 'unit': 'µg'},\n",
       " {'intake': 49.808, 'label': 'Fatty acids, total saturated', 'unit': 'g'},\n",
       " {'intake': 1.674, 'label': '4:0', 'unit': 'g'},\n",
       " {'intake': 1.416, 'label': '6:0', 'unit': 'g'},\n",
       " {'intake': 0.89, 'label': '8:0', 'unit': 'g'},\n",
       " {'intake': 2.164, 'label': '10:0', 'unit': 'g'},\n",
       " {'intake': 2.468, 'label': '12:0', 'unit': 'g'},\n",
       " {'intake': 7.934, 'label': '14:0', 'unit': 'g'},\n",
       " {'intake': 0.84, 'label': '15:0', 'unit': 'g'},\n",
       " {'intake': 22.77, 'label': '16:0', 'unit': 'g'},\n",
       " {'intake': 0.504, 'label': '17:0', 'unit': 'g'},\n",
       " {'intake': 8.96, 'label': '18:0', 'unit': 'g'},\n",
       " {'intake': 0.126, 'label': '20:0', 'unit': 'g'},\n",
       " {'intake': 0.04, 'label': '22:0', 'unit': 'g'},\n",
       " {'intake': 0.022, 'label': '24:0', 'unit': 'g'},\n",
       " {'intake': 24.41, 'label': 'Fatty acids, total monounsaturated', 'unit': 'g'},\n",
       " {'intake': 0.782, 'label': '14:1', 'unit': 'g'},\n",
       " {'intake': 1.33, 'label': '16:1 undifferentiated', 'unit': 'g'},\n",
       " {'intake': 0.266, 'label': '16:1 t', 'unit': 'g'},\n",
       " {'intake': 0.156, 'label': '17:1', 'unit': 'g'},\n",
       " {'intake': 19.544, 'label': '18:1 undifferentiated', 'unit': 'g'},\n",
       " {'intake': 2.154, 'label': '18:1 t', 'unit': 'g'},\n",
       " {'intake': 0.172, 'label': '20:1', 'unit': 'g'},\n",
       " {'intake': 0.002, 'label': '22:1 undifferentiated', 'unit': 'g'},\n",
       " {'intake': 0.002, 'label': '24:1 c', 'unit': 'g'},\n",
       " {'intake': 3.752, 'label': 'Fatty acids, total polyunsaturated', 'unit': 'g'},\n",
       " {'intake': 3.092, 'label': '18:2 undifferentiated', 'unit': 'g'},\n",
       " {'intake': 0.3, 'label': '18:3 undifferentiated', 'unit': 'g'},\n",
       " {'intake': 0.018, 'label': '20:2 n-6 c,c', 'unit': 'g'},\n",
       " {'intake': 0.098, 'label': '20:3 undifferentiated', 'unit': 'g'},\n",
       " {'intake': 0.14, 'label': '20:4 undifferentiated', 'unit': 'g'},\n",
       " {'intake': 0.026, 'label': '20:5 n-3 (EPA)', 'unit': 'g'},\n",
       " {'intake': 0.024, 'label': '22:4', 'unit': 'g'},\n",
       " {'intake': 0.044, 'label': '22:5 n-3 (DPA)', 'unit': 'g'},\n",
       " {'intake': 0.002, 'label': '22:6 n-3 (DHA)', 'unit': 'g'},\n",
       " {'intake': 2.42, 'label': 'Fatty acids, total trans', 'unit': 'g'},\n",
       " {'intake': 2.42, 'label': 'Fatty acids, total trans-monoenoic', 'unit': 'g'},\n",
       " {'intake': 262.0, 'label': 'Cholesterol', 'unit': 'mg'},\n",
       " {'intake': 1.444, 'label': 'Tryptophan', 'unit': 'g'},\n",
       " {'intake': 2.756, 'label': 'Threonine', 'unit': 'g'},\n",
       " {'intake': 3.184, 'label': 'Isoleucine', 'unit': 'g'},\n",
       " {'intake': 5.118, 'label': 'Leucine', 'unit': 'g'},\n",
       " {'intake': 2.706, 'label': 'Lysine', 'unit': 'g'},\n",
       " {'intake': 1.444, 'label': 'Methionine', 'unit': 'g'},\n",
       " {'intake': 0.324, 'label': 'Cystine', 'unit': 'g'},\n",
       " {'intake': 2.836, 'label': 'Phenylalanine', 'unit': 'g'},\n",
       " {'intake': 2.926, 'label': 'Tyrosine', 'unit': 'g'},\n",
       " {'intake': 3.706, 'label': 'Valine', 'unit': 'g'},\n",
       " {'intake': 1.444, 'label': 'Arginine', 'unit': 'g'},\n",
       " {'intake': 1.444, 'label': 'Histidine', 'unit': 'g'},\n",
       " {'intake': 1.982, 'label': 'Alanine', 'unit': 'g'},\n",
       " {'intake': 4.578, 'label': 'Aspartic acid', 'unit': 'g'},\n",
       " {'intake': 12.5, 'label': 'Glutamic acid', 'unit': 'g'},\n",
       " {'intake': 1.444, 'label': 'Glycine', 'unit': 'g'},\n",
       " {'intake': 6.592, 'label': 'Proline', 'unit': 'g'},\n",
       " {'intake': 2.06, 'label': 'Serine', 'unit': 'g'}]"
      ]
     },
     "execution_count": 158,
     "metadata": {},
     "output_type": "execute_result"
    }
   ],
   "source": [
    "calculate_consumption(selected_ndbno, selected_measure, quantity)"
   ]
  },
  {
   "cell_type": "code",
   "execution_count": 167,
   "metadata": {
    "collapsed": false
   },
   "outputs": [
    {
     "data": {
      "text/plain": [
       "[{'ds': 'BL',\n",
       "  'group': 'Branded Food Products Database',\n",
       "  'name': 'MICHIGAN APPLES, APPLE SLICES WITH CARAMEL, UPC: 071228174323',\n",
       "  'ndbno': '45037461',\n",
       "  'offset': 0},\n",
       " {'ds': 'BL',\n",
       "  'group': 'Branded Food Products Database',\n",
       "  'name': 'MICHIGAN APPLES, APPLE SLICES WITH GRAPES, UPC: 071228174316',\n",
       "  'ndbno': '45037466',\n",
       "  'offset': 1},\n",
       " {'ds': 'BL',\n",
       "  'group': 'Branded Food Products Database',\n",
       "  'name': \"DIPPIN' STIX, SLICED APPLES & CARAMEL WITH PEANUTS, UPC: 649632000813\",\n",
       "  'ndbno': '45048208',\n",
       "  'offset': 2},\n",
       " {'ds': 'BL',\n",
       "  'group': 'Branded Food Products Database',\n",
       "  'name': \"REICHEL, DIPPIN' STICKS, SLICED APPLES & CARAMEL, UPC: 649632000806\",\n",
       "  'ndbno': '45091341',\n",
       "  'offset': 3}]"
      ]
     },
     "execution_count": 167,
     "metadata": {},
     "output_type": "execute_result"
    }
   ],
   "source": [
    "FCD.find(\"MICHIGAN APPLES, APPLE SLICES WITH CARAMEL,  \")"
   ]
  },
  {
   "cell_type": "code",
   "execution_count": 170,
   "metadata": {
    "collapsed": false
   },
   "outputs": [
    {
     "data": {
      "text/plain": [
       "[{'group': 'Proximates',\n",
       "  'measures': [{'eqv': 30.0, 'label': 'cup', 'qty': 0.33, 'value': '150'}],\n",
       "  'name': 'Energy',\n",
       "  'nutrient_id': '208',\n",
       "  'unit': 'kcal',\n",
       "  'value': '500'},\n",
       " {'group': 'Proximates',\n",
       "  'measures': [{'eqv': 30.0, 'label': 'cup', 'qty': 0.33, 'value': '5.00'}],\n",
       "  'name': 'Protein',\n",
       "  'nutrient_id': '203',\n",
       "  'unit': 'g',\n",
       "  'value': '16.67'},\n",
       " {'group': 'Proximates',\n",
       "  'measures': [{'eqv': 30.0, 'label': 'cup', 'qty': 0.33, 'value': '10.00'}],\n",
       "  'name': 'Total lipid (fat)',\n",
       "  'nutrient_id': '204',\n",
       "  'unit': 'g',\n",
       "  'value': '33.33'},\n",
       " {'group': 'Proximates',\n",
       "  'measures': [{'eqv': 30.0, 'label': 'cup', 'qty': 0.33, 'value': '12.00'}],\n",
       "  'name': 'Carbohydrate, by difference',\n",
       "  'nutrient_id': '205',\n",
       "  'unit': 'g',\n",
       "  'value': '40.00'},\n",
       " {'group': 'Proximates',\n",
       "  'measures': [{'eqv': 30.0, 'label': 'cup', 'qty': 0.33, 'value': '2.0'}],\n",
       "  'name': 'Fiber, total dietary',\n",
       "  'nutrient_id': '291',\n",
       "  'unit': 'g',\n",
       "  'value': '6.7'},\n",
       " {'group': 'Proximates',\n",
       "  'measures': [{'eqv': 30.0, 'label': 'cup', 'qty': 0.33, 'value': '1.00'}],\n",
       "  'name': 'Sugars, total',\n",
       "  'nutrient_id': '269',\n",
       "  'unit': 'g',\n",
       "  'value': '3.33'},\n",
       " {'group': 'Minerals',\n",
       "  'measures': [{'eqv': 30.0, 'label': 'cup', 'qty': 0.33, 'value': '20'}],\n",
       "  'name': 'Calcium, Ca',\n",
       "  'nutrient_id': '301',\n",
       "  'unit': 'mg',\n",
       "  'value': '67'},\n",
       " {'group': 'Minerals',\n",
       "  'measures': [{'eqv': 30.0, 'label': 'cup', 'qty': 0.33, 'value': '1.08'}],\n",
       "  'name': 'Iron, Fe',\n",
       "  'nutrient_id': '303',\n",
       "  'unit': 'mg',\n",
       "  'value': '3.60'},\n",
       " {'group': 'Minerals',\n",
       "  'measures': [{'eqv': 30.0, 'label': 'cup', 'qty': 0.33, 'value': '440'}],\n",
       "  'name': 'Sodium, Na',\n",
       "  'nutrient_id': '307',\n",
       "  'unit': 'mg',\n",
       "  'value': '1467'},\n",
       " {'group': 'Vitamins',\n",
       "  'measures': [{'eqv': 30.0, 'label': 'cup', 'qty': 0.33, 'value': '0.0'}],\n",
       "  'name': 'Vitamin C, total ascorbic acid',\n",
       "  'nutrient_id': '401',\n",
       "  'unit': 'mg',\n",
       "  'value': '0.0'},\n",
       " {'group': 'Vitamins',\n",
       "  'measures': [{'eqv': 30.0, 'label': 'cup', 'qty': 0.33, 'value': '0'}],\n",
       "  'name': 'Vitamin A, IU',\n",
       "  'nutrient_id': '318',\n",
       "  'unit': 'IU',\n",
       "  'value': '0'},\n",
       " {'group': 'Lipids',\n",
       "  'measures': [{'eqv': 30.0, 'label': 'cup', 'qty': 0.33, 'value': '1.50'}],\n",
       "  'name': 'Fatty acids, total saturated',\n",
       "  'nutrient_id': '606',\n",
       "  'unit': 'g',\n",
       "  'value': '5.00'},\n",
       " {'group': 'Lipids',\n",
       "  'measures': [{'eqv': 30.0, 'label': 'cup', 'qty': 0.33, 'value': '0.00'}],\n",
       "  'name': 'Fatty acids, total trans',\n",
       "  'nutrient_id': '605',\n",
       "  'unit': 'g',\n",
       "  'value': '0.00'},\n",
       " {'group': 'Lipids',\n",
       "  'measures': [{'eqv': 30.0, 'label': 'cup', 'qty': 0.33, 'value': '0'}],\n",
       "  'name': 'Cholesterol',\n",
       "  'nutrient_id': '601',\n",
       "  'unit': 'mg',\n",
       "  'value': '0'}]"
      ]
     },
     "execution_count": 170,
     "metadata": {},
     "output_type": "execute_result"
    }
   ],
   "source": [
    "FCD.get_nutrients(\"45005389\")"
   ]
  },
  {
   "cell_type": "code",
   "execution_count": 171,
   "metadata": {
    "collapsed": false
   },
   "outputs": [
    {
     "data": {
      "text/plain": [
       "[{'intake': '150', 'label': 'Energy', 'unit': 'kcal'},\n",
       " {'intake': '5.00', 'label': 'Protein', 'unit': 'g'},\n",
       " {'intake': '10.00', 'label': 'Total lipid (fat)', 'unit': 'g'},\n",
       " {'intake': '12.00', 'label': 'Carbohydrate, by difference', 'unit': 'g'},\n",
       " {'intake': '2.0', 'label': 'Fiber, total dietary', 'unit': 'g'},\n",
       " {'intake': '1.00', 'label': 'Sugars, total', 'unit': 'g'},\n",
       " {'intake': '20', 'label': 'Calcium, Ca', 'unit': 'mg'},\n",
       " {'intake': '1.08', 'label': 'Iron, Fe', 'unit': 'mg'},\n",
       " {'intake': '440', 'label': 'Sodium, Na', 'unit': 'mg'},\n",
       " {'intake': '0.0', 'label': 'Vitamin C, total ascorbic acid', 'unit': 'mg'},\n",
       " {'intake': '0', 'label': 'Vitamin A, IU', 'unit': 'IU'},\n",
       " {'intake': '1.50', 'label': 'Fatty acids, total saturated', 'unit': 'g'},\n",
       " {'intake': '0.00', 'label': 'Fatty acids, total trans', 'unit': 'g'},\n",
       " {'intake': '0', 'label': 'Cholesterol', 'unit': 'mg'}]"
      ]
     },
     "execution_count": 171,
     "metadata": {},
     "output_type": "execute_result"
    }
   ],
   "source": [
    "calculate_consumption(\"45005389\",\"cup\",1)"
   ]
  },
  {
   "cell_type": "code",
   "execution_count": null,
   "metadata": {
    "collapsed": true
   },
   "outputs": [],
   "source": []
  }
 ],
 "metadata": {
  "kernelspec": {
   "display_name": "Python 3",
   "language": "python",
   "name": "python3"
  },
  "language_info": {
   "codemirror_mode": {
    "name": "ipython",
    "version": 3
   },
   "file_extension": ".py",
   "mimetype": "text/x-python",
   "name": "python",
   "nbconvert_exporter": "python",
   "pygments_lexer": "ipython3",
   "version": "3.5.2"
  }
 },
 "nbformat": 4,
 "nbformat_minor": 1
}
